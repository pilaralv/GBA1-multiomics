{
 "cells": [
  {
   "cell_type": "markdown",
   "id": "c510a887-3796-4687-9496-5c1bd814847e",
   "metadata": {
    "kernel": "SoS"
   },
   "source": [
    "# Scree plot to determine number of PCs used\n",
    "Python cells \\\n",
    "Showing only for IPS RNA but generated the same way for all"
   ]
  },
  {
   "cell_type": "code",
   "execution_count": null,
   "id": "98933bd8-fd30-486e-8205-d771917c7c3b",
   "metadata": {
    "kernel": "Python3"
   },
   "outputs": [],
   "source": [
    "# Read the CSV file\n",
    "df = pd.read_csv('analysis_table_ips.csv')\n",
    "\n",
    "# Subset the Sample column and PC 1-10 columns\n",
    "subset_df = df[['Sample', 'PC1', 'PC2', 'PC3', 'PC4', 'PC5', 'PC6', 'PC7', 'PC8', 'PC9', 'PC10']]\n",
    "\n",
    "# Convert the subset DataFrame to a NumPy array\n",
    "principal_components = subset_df.drop(columns=['Sample']).to_numpy()\n",
    "\n",
    "# Compute the variance explained by each principal component\n",
    "variance_explained = np.var(principal_components, axis=0) / np.sum(np.var(principal_components, axis=0))\n",
    "\n",
    "# Plot the scree plot as a line plot with open circles\n",
    "plt.figure(figsize=(10, 6))\n",
    "plt.plot(range(1, 11), variance_explained, marker='o', linestyle='-')\n",
    "plt.xlabel('Principal Components')\n",
    "plt.ylabel('Variance Explained')\n",
    "plt.title('Scree Plot IPS RNA')\n",
    "plt.grid(True)\n",
    "\n",
    "# Save the combined image with specified file format\n",
    "plt.savefig('./regressions/QC/IPS_scree.png', format='png')\n",
    "\n",
    "plt.show()"
   ]
  }
 ],
 "metadata": {
  "kernelspec": {
   "display_name": "SoS",
   "language": "sos",
   "name": "sos"
  },
  "language_info": {
   "codemirror_mode": "sos",
   "file_extension": ".sos",
   "mimetype": "text/x-sos",
   "name": "sos",
   "nbconvert_exporter": "sos_notebook.converter.SoS_Exporter",
   "pygments_lexer": "sos"
  },
  "sos": {
   "kernels": [
    [
     "Python3",
     "python3",
     "Python3",
     "#FFD91A",
     ""
    ]
   ],
   "version": ""
  }
 },
 "nbformat": 4,
 "nbformat_minor": 5
}
