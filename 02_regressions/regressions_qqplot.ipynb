{
 "cells": [
  {
   "cell_type": "markdown",
   "id": "6fc039b3-4d8a-4724-8f9a-bcdf858715aa",
   "metadata": {
    "kernel": "Python3"
   },
   "source": [
    "# Example regression for RNA IPS (same applies for other -omics and cells)\n",
    "Code from Mike A. Nalls"
   ]
  },
  {
   "cell_type": "code",
   "execution_count": null,
   "id": "f394f582-fbf7-41b4-9e78-4fe31cb0f6c8",
   "metadata": {
    "kernel": "Python3"
   },
   "outputs": [],
   "source": [
    "import os\n",
    "import sys\n",
    "import argparse\n",
    "import math\n",
    "import time\n",
    "import h5py\n",
    "import joblib\n",
    "import subprocess\n",
    "import numpy as np\n",
    "import pandas as pd\n",
    "import statsmodels.formula.api as sm\n",
    "from scipy import stats\n",
    "\n",
    "\n",
    "#! pip install --upgrade tables\n",
    "import tables"
   ]
  },
  {
   "cell_type": "code",
   "execution_count": null,
   "id": "f53d83f4-816a-4cee-b3ac-747586157ee5",
   "metadata": {
    "kernel": "Python3"
   },
   "outputs": [],
   "source": [
    "#! pip install statutils\n",
    "import statutils\n",
    "from statutils.multi_comparison import p_adjust"
   ]
  },
  {
   "cell_type": "code",
   "execution_count": null,
   "id": "472d9b0c-d947-4d9c-aa14-57a9b9a8c189",
   "metadata": {
    "kernel": "Python3"
   },
   "outputs": [],
   "source": [
    "# Set up variables\n",
    "df = pd.read_csv(\"analysis_table_ips.csv\", engine='c')\n",
    "df[['Group','GBA_Group','PC1','PC2','PC3','PC4','PC5','PC6','PC7','PC8','PC9','PC10']].describe()\n",
    "df.shape"
   ]
  },
  {
   "cell_type": "code",
   "execution_count": null,
   "id": "3e8ce4cc-a4e1-40a1-82b0-42c532a73f10",
   "metadata": {
    "kernel": "Python3"
   },
   "outputs": [],
   "source": [
    "predictors_list = ['GBA_Group']\n",
    "covs_string = 'PC1 + PC2'"
   ]
  },
  {
   "cell_type": "code",
   "execution_count": null,
   "id": "93457387-bec3-49ae-b3a9-d059bd03def2",
   "metadata": {
    "kernel": "Python3"
   },
   "outputs": [],
   "source": [
    "# Need to update column headers since some start with numbers and python doesnt like that\n",
    "columns = df.columns\n",
    "new_columns = ['GENE_' + column if index >= 13 else column for index, column in enumerate(columns)]\n",
    "df.columns = new_columns\n",
    "first_14_columns = df.iloc[:, :14]  # Selecting all rows and the first 12 columns\n",
    "print(first_14_columns)\n"
   ]
  },
  {
   "cell_type": "code",
   "execution_count": null,
   "id": "1a64c97d-1dd5-4c39-9ea7-e24cae2c4fbb",
   "metadata": {
    "kernel": "Python3"
   },
   "outputs": [],
   "source": [
    "df.columns = df.columns.str.replace('-', '_')\n",
    "df.columns = df.columns.str.replace('.', '_')\n",
    "column_headers = list(df.columns)\n",
    "outcomes_list = column_headers[13:]"
   ]
  },
  {
   "cell_type": "markdown",
   "id": "5fac0394-445d-4f93-a170-0d3e1b7a7435",
   "metadata": {
    "kernel": "Python3"
   },
   "source": [
    "## Run regression"
   ]
  },
  {
   "cell_type": "code",
   "execution_count": null,
   "id": "7e5c3600-3caf-4473-9c4e-7374a2d2858a",
   "metadata": {
    "kernel": "Python3"
   },
   "outputs": [],
   "source": [
    "\n",
    "results = []\n",
    "\n",
    "for outcome in range(len(outcomes_list)):\n",
    "  for predictor in range(len(predictors_list)):\n",
    "    outcome_name = outcomes_list[outcome]\n",
    "    predictor_name = predictors_list[predictor]\n",
    "    print(\"Trying \" + outcome_name + \" ~ \" + predictor_name + \" wish me luck!\")\n",
    "    this_formula = outcomes_list[outcome] + \" ~ \" + \"df['\" + predictors_list[predictor] + \"']\" + \" + \" + covs_string\n",
    "    reg_model = sm.ols(formula=this_formula, data=df)\n",
    "    fitted = reg_model.fit()\n",
    "    beta_coef  = fitted.params.loc[\"df['\" + predictors_list[predictor] + \"']\"]\n",
    "    beta_se  = fitted.bse.loc[\"df['\" + predictors_list[predictor] + \"']\"]\n",
    "    p_val = fitted.pvalues.loc[\"df['\" + predictors_list[predictor] + \"']\"]\n",
    "    print(outcome_name, predictor_name, beta_coef, beta_se, p_val)\n",
    "    results.append((outcome_name, predictor_name, beta_coef, beta_se, p_val))\n",
    "\n",
    "output = pd.DataFrame(results, columns=('OUTCOME', 'PREDICTOR', 'BETA_COEF', 'BETA_SE','P_VAL'))"
   ]
  },
  {
   "cell_type": "markdown",
   "id": "548eb391-24fd-45a9-bd72-40179a789c76",
   "metadata": {
    "kernel": "Python3"
   },
   "source": [
    "## Do some multi-test and export results"
   ]
  },
  {
   "cell_type": "code",
   "execution_count": null,
   "id": "56140078-cd13-4f38-8293-eef8fe7de4ae",
   "metadata": {
    "kernel": "Python3"
   },
   "outputs": [],
   "source": [
    "output['P_VAL_FDR']=p_adjust(output['P_VAL'], method=\"BH\")\n",
    "\n",
    "output.to_csv(\"./regressions/GBA1_omics_gene_Expression_vs_group_IPS.csv\", index=False)\n",
    "\n",
    "output.describe()"
   ]
  },
  {
   "cell_type": "markdown",
   "id": "ebdfd54b-4234-42fd-bde5-2c8396934fc7",
   "metadata": {
    "kernel": "Python3"
   },
   "source": [
    "## Check some hits"
   ]
  },
  {
   "cell_type": "code",
   "execution_count": null,
   "id": "c4699f1b-4336-497c-9de6-571f0285f0a8",
   "metadata": {
    "kernel": "Python3"
   },
   "outputs": [],
   "source": [
    "hits = output[output['P_VAL_FDR'] < 0.05]\n",
    "#hits.to_csv(\"./regressions/results_filtered_covs_ips.csv\", index=False)\n",
    "hits.describe()"
   ]
  },
  {
   "cell_type": "markdown",
   "id": "6eec8277-fc29-4f7e-8b03-d4dcf78fb363",
   "metadata": {
    "kernel": "Python3"
   },
   "source": [
    "# Generate QQ plot for inflation"
   ]
  },
  {
   "cell_type": "code",
   "execution_count": null,
   "id": "033139ae-b432-4a5b-9ccf-9317c6ab8bfb",
   "metadata": {
    "kernel": "Python3"
   },
   "outputs": [],
   "source": [
    "import numpy as np\n",
    "import matplotlib.pyplot as plt\n",
    "from scipy import stats\n",
    "import pandas as pd\n",
    "import seaborn as sns"
   ]
  },
  {
   "cell_type": "code",
   "execution_count": null,
   "id": "132bd1f6-f5ea-43ae-8cfc-4b3cfd3a26af",
   "metadata": {
    "kernel": "Python3"
   },
   "outputs": [],
   "source": [
    "# QQ plot function\n",
    "def qqplot(pval_array, title, ax):\n",
    "    logp = -np.log10(pval_array)  # Log10 transformation\n",
    "    logp = np.sort(logp)\n",
    "    intermid = 1/logp.shape[0]\n",
    "    expected_logp = -np.log10(np.linspace(intermid, 1, logp.shape[0]))  # Log10 transformation\n",
    "    expected_logp = np.sort(expected_logp)\n",
    "    dat = pd.DataFrame({'p': logp, 'expected_p': expected_logp}, columns=['p', 'expected_p'])\n",
    "    del logp\n",
    "    del expected_logp\n",
    "    X_plot = [np.min(dat['expected_p']), np.max(dat['expected_p'])]  # Adjusted range\n",
    "    qqplot_res = sns.scatterplot(data=dat, x=\"expected_p\", y=\"p\", ax=ax)\n",
    "    ax.plot(X_plot, X_plot, color='r')\n",
    "    ax.set_title(title)\n",
    "    ax.set_xlabel('Expected -log10(p-values)')  # Adjusted label\n",
    "    ax.set_ylabel('Observed -log10(p-values)')  # Adjusted label\n",
    "    \n",
    "    # Calculate lambda\n",
    "    observed_median = np.median(dat['p'])\n",
    "    expected_median = np.median(dat['expected_p'])\n",
    "    lambda_val = observed_median / expected_median\n",
    "    \n",
    "    # Annotate the plot with lambda value\n",
    "    ax.text(0.05, 0.95, f'$\\lambda$ = {lambda_val:.2f}', transform=ax.transAxes, fontsize=12,\n",
    "            verticalalignment='top')\n",
    "\n",
    "# Load data for the PCs 1-10 condition\n",
    "file_path = './regressions/GBA1_omics_gene_Expression_vs_group_IPS.csv'\n",
    "column_name = 'P_VAL'\n",
    "title = 'Q-Q Plot IPS RNA P-Value PCs 1-2'\n",
    "\n",
    "# Read data\n",
    "data = pd.read_csv(file_path)\n",
    "observed_pvalues = data[column_name]\n",
    "\n",
    "# Create a single subplot\n",
    "fig, ax = plt.subplots(1, 1, figsize=(8, 6))\n",
    "\n",
    "# Generate QQ plot\n",
    "qqplot(observed_pvalues, title, ax=ax)\n",
    "\n",
    "# Adjust layout\n",
    "plt.tight_layout()\n",
    "\n",
    "# Save the plot (optional)\n",
    "plt.savefig('./regressions/QC/ips_qq_plot_2PCs_log10.png', format='png')\n",
    "\n",
    "# Display the plot\n",
    "plt.show()"
   ]
  }
 ],
 "metadata": {
  "kernelspec": {
   "display_name": "SoS",
   "language": "sos",
   "name": "sos"
  },
  "language_info": {
   "codemirror_mode": "sos",
   "file_extension": ".sos",
   "mimetype": "text/x-sos",
   "name": "sos",
   "nbconvert_exporter": "sos_notebook.converter.SoS_Exporter",
   "pygments_lexer": "sos"
  },
  "sos": {
   "kernels": [
    [
     "Python3",
     "python3",
     "Python3",
     "#FFD91A",
     ""
    ]
   ],
   "version": ""
  }
 },
 "nbformat": 4,
 "nbformat_minor": 5
}
