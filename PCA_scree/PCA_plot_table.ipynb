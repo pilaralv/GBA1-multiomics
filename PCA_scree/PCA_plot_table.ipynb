{
 "cells": [
  {
   "cell_type": "markdown",
   "id": "231a6ea3-d1a9-4105-8206-558411cc501b",
   "metadata": {
    "kernel": "SoS"
   },
   "source": [
    "# PCA plotting and generating analysis files\n",
    "Note: This will be shown for the RNA, same principles apply for proteomic and metabolomic data"
   ]
  },
  {
   "cell_type": "markdown",
   "id": "2d9e10c2-360b-41f2-8d71-83c330672ef1",
   "metadata": {
    "kernel": "SoS"
   },
   "source": [
    "This will be using R code/cells in notebook"
   ]
  },
  {
   "cell_type": "code",
   "execution_count": null,
   "id": "65d040ff-f63c-4c52-aeed-3398b5591a40",
   "metadata": {
    "kernel": "R/4.3"
   },
   "outputs": [],
   "source": [
    "# Working directory\n",
    "setwd(\"/data/RNA/\")"
   ]
  },
  {
   "cell_type": "code",
   "execution_count": null,
   "id": "d486b5c1-f9f9-4fd3-85ee-f1fbcfca305c",
   "metadata": {
    "kernel": "R/4.3"
   },
   "outputs": [],
   "source": [
    "# Load packages\n",
    "library(ggplot2)\n",
    "library(ggfortify)\n",
    "library(dplyr)\n",
    "library(cluster)"
   ]
  },
  {
   "cell_type": "markdown",
   "id": "4c2cb34d-8159-43dd-8e9f-49431fd7d3f4",
   "metadata": {
    "kernel": "R/4.3"
   },
   "source": [
    "## Generate PCA plot for IPS + Neuron + MGL"
   ]
  },
  {
   "cell_type": "code",
   "execution_count": null,
   "id": "f404e0da-257c-407d-8e50-b6fbdabfd212",
   "metadata": {
    "kernel": "R/4.3"
   },
   "outputs": [],
   "source": [
    "# Read in data\n",
    "ips <- read.csv(\"./IPSC_PROCESSED_DATA/salmon/all_samples_salmon_genes_ips.csv\", header=T)\n",
    "neuron <- read.csv(\"./NEURON_PROCESSED_DATA/salmon/all_samples_salmon_genes_neuron.csv\", header=T)\n",
    "mgl <- read.csv(\"./MGL_PROCESSED_DATA/salmon/all_samples_salmon_genes_mgl.csv\", header=T)"
   ]
  },
  {
   "cell_type": "code",
   "execution_count": null,
   "id": "6cfa9fd4-884f-49f5-ab73-f9d7864a622a",
   "metadata": {
    "kernel": "R/4.3"
   },
   "outputs": [],
   "source": [
    "# Remove id column in neuron and mgl dataset\n",
    "neuron <- neuron[,-1 ]\n",
    "mgl <- mgl[,-1]\n",
    "# Append neuron to ips\n",
    "ips_neuron_mgl <- cbind(ips,neuron, mgl)"
   ]
  },
  {
   "cell_type": "code",
   "execution_count": null,
   "id": "447fe90f-b8a2-44a7-a279-deae3d365836",
   "metadata": {
    "kernel": "R/4.3"
   },
   "outputs": [],
   "source": [
    "# Calculate mean TPM\n",
    "row_means <- rowMeans(ips_neuron_mgl[, 2:55])\n",
    "# Add column of mean TPM\n",
    "ips_neuron_mgl$TPM_average <- row_means\n",
    "# Subset by mean TPM\n",
    "subset_data <- ips_neuron_mgl[ips_neuron_mgl$TPM_average >= 2, ]"
   ]
  },
  {
   "cell_type": "code",
   "execution_count": null,
   "id": "2c20b1b1-b324-4ffd-8bb0-2d969ccceb4f",
   "metadata": {
    "kernel": "R/4.3"
   },
   "outputs": [],
   "source": [
    "# Add status column\n",
    "create_new_row <- function(column_names) {\n",
    "  row_values <- ifelse(grepl(\"IPSC\", column_names), \"IPS\", ifelse(grepl(\"KOLF\", column_names), \"NEURON\", \"MGL\"))\n",
    "  return(row_values)\n",
    "}\n",
    "\n",
    "new_row_values <- create_new_row(colnames(subset_data))\n",
    "\n",
    "subset_data <- rbind(subset_data, new_row_values)"
   ]
  },
  {
   "cell_type": "code",
   "execution_count": null,
   "id": "36ff5b19-4b9c-445a-b5d5-8b9805783dbd",
   "metadata": {
    "kernel": "R/4.3"
   },
   "outputs": [],
   "source": [
    "# Edit down column names\n",
    "new_column_names <- gsub(\"^TPM_KOLF_IPSC_GBA1_\", \"\", colnames(subset_data))\n",
    "colnames(subset_data) <- new_column_names\n",
    "\n",
    "new_column_names <- gsub(\"^TPM_KOLF_IPSC_\", \"\", colnames(subset_data))\n",
    "colnames(subset_data) <- new_column_names\n",
    "\n",
    "new_column_names <- gsub(\"^TPM_KOLF_GBA1_\", \"\", colnames(subset_data))\n",
    "colnames(subset_data) <- new_column_names\n",
    "\n",
    "new_column_names <- gsub(\"^TPM_KOLF_\", \"\", colnames(subset_data))\n",
    "colnames(subset_data) <- new_column_names\n",
    "\n",
    "# Print the updated column names\n",
    "print(colnames(subset_data))"
   ]
  },
  {
   "cell_type": "code",
   "execution_count": null,
   "id": "472cf9b6-a108-4c97-b27f-eeb4510ffe41",
   "metadata": {
    "kernel": "R/4.3"
   },
   "outputs": [],
   "source": [
    "# Need to transpose data\n",
    "transposed_df <- t(subset_data)\n",
    "\n",
    "# Convert the matrix into a dataframe\n",
    "transposed_df <- as.data.frame(transposed_df)\n",
    "\n",
    "# Get the first row as column names\n",
    "col_names <- transposed_df[1, ]\n",
    "\n",
    "# Set column names\n",
    "colnames(transposed_df) <- col_names\n",
    "\n",
    "# Remove the first row from the transposed dataframe\n",
    "transposed_df <- transposed_df[-1, ]\n",
    "\n",
    "# Remove tpm average row\n",
    "transposed_df <- transposed_df[-55, ]\n",
    "\n",
    "# Move column name from NEURON to STATUS\n",
    "colnames(transposed_df)[colnames(transposed_df) == \"MGL\"] <- \"STATUS\""
   ]
  },
  {
   "cell_type": "code",
   "execution_count": null,
   "id": "0c9a6117-01fe-4353-92ba-7dd5e25e5506",
   "metadata": {
    "kernel": "R/4.3"
   },
   "outputs": [],
   "source": [
    "# Set rownames as ID\n",
    "transposed_df$ID <- row.names(transposed_df)\n",
    "\n",
    "# Check dimensions\n",
    "dimensions <- dim(transposed_df)\n",
    "\n",
    "# Print the dimensions\n",
    "print(dimensions)"
   ]
  },
  {
   "cell_type": "code",
   "execution_count": null,
   "id": "9d50774b-0437-4607-bad6-5dd53c02b84f",
   "metadata": {
    "kernel": "R/4.3"
   },
   "outputs": [],
   "source": [
    "# Make PCA df, 2 minus columns due to ID and STATUS\n",
    "pca_df <- transposed_df[,1:12205]\n",
    "rownames(pca_df) <- NULL\n",
    "pca_df <- sapply(pca_df, as.numeric)"
   ]
  },
  {
   "cell_type": "code",
   "execution_count": null,
   "id": "66ec5e04-7d63-473d-a5d0-b14211a51f29",
   "metadata": {
    "kernel": "R/4.3"
   },
   "outputs": [],
   "source": [
    "# Plot PCA\n",
    "pca_res <- prcomp(pca_df, scale. = TRUE)\n",
    "\n",
    "# Ensure STATUS is a factor and ordered correctly\n",
    "transposed_df$STATUS <- factor(transposed_df$STATUS, levels = c(\"IPSC\", \"NEURON\", \"MGL\"))\n",
    "\n",
    "# CHANGE TO D409!\n",
    "rownames(transposed_df) <- gsub(\"^D448\", \"D409\", rownames(transposed_df))\n",
    "transposed_df$ID <- gsub(\"D448\", \"D409\", transposed_df$ID)\n",
    "\n",
    "# Define custom colors for cell types\n",
    "custom_colors <- c(\"IPSC\" = \"#E41A1C\", \"NEURON\" = \"#377EB8\", \"MGL\" = \"#4DAF4A\")  # Red, Blue, Green\n",
    "\n",
    "# PCA Plot with modified settings\n",
    "pca_plot <- autoplot(pca_res, data = transposed_df, frame = TRUE, frame.colour = \"STATUS\") +\n",
    "  geom_text(aes(label = transposed_df$ID), size = 2, check_overlap = TRUE) +\n",
    "  ggtitle(\"Differentiations RNAseq\") +\n",
    "  scale_color_manual(name = \"Cell Type\", values = custom_colors) +  # Rename legend key and set colors\n",
    "  scale_fill_manual(name = \"Cell Type\", values = custom_colors) +   # Apply colors to filled areas\n",
    "  theme_minimal() +  # Use a minimal theme with a white background\n",
    "  theme(\n",
    "    panel.background = element_rect(fill = \"white\", color = NA),  # White background\n",
    "    plot.background = element_rect(fill = \"white\", color = NA),\n",
    "    legend.title = element_text(size = 14, face = \"bold\"),  # Format legend title\n",
    "    panel.border = element_rect(color = \"black\", fill = NA, size = 1),\n",
    "    legend.text = element_text(size = 10),\n",
    "    legend.position = \"right\",  # Keep legend on the right\n",
    "    plot.title = element_text(hjust = 0.5, face = \"bold\", size = 14),\n",
    "    axis.text.x=element_text(size=14),\n",
    "    axis.text.y=element_text(size=14),\n",
    "    axis.title.x=element_text(size=14),\n",
    "    axis.title.y=element_text(size=14),\n",
    "  )\n",
    "pca_plot\n",
    "ggsave(\"RNA_PCA_all.png\", plot = pca_plot, width = 8, height = 6, dpi = 600)\n"
   ]
  },
  {
   "cell_type": "markdown",
   "id": "27fec5b5-a0b3-403e-afbb-c49d3922ee45",
   "metadata": {
    "kernel": "R/4.3"
   },
   "source": [
    "### Now that we have plotted, going to generate the analysis table which includes all the information + PCs\n",
    "Only showing for iPSC"
   ]
  },
  {
   "cell_type": "code",
   "execution_count": null,
   "id": "46b9adf0-28bf-4f5e-bfbb-fafd4c7dff6e",
   "metadata": {
    "kernel": "R/4.3"
   },
   "outputs": [],
   "source": [
    "# Read in data\n",
    "data <- read.csv(\"./IPSC_PROCESSED_DATA/salmon/all_samples_salmon_genes_ips.csv\", header=T)\n",
    "\n",
    "# Calculate mean TPM\n",
    "row_means <- rowMeans(data[, 2:19])\n",
    "# Add column of mean TPM\n",
    "data$TPM_average <- row_means\n",
    "# Subset by mean TPM\n",
    "subset_data <- data[data$TPM_average >= 2, ]\n",
    "\n",
    "# Edit down column names for cleaner plot\n",
    "new_column_names <- gsub(\"^TPM_KOLF_IPSC_GBA1_\", \"\", colnames(subset_data))\n",
    "colnames(subset_data) <- new_column_names\n",
    "new_column_names <- gsub(\"^TPM_KOLF_IPSC_\", \"\", colnames(subset_data))\n",
    "colnames(subset_data) <- new_column_names\n",
    "\n",
    "# Print the updated column names\n",
    "print(colnames(subset_data))\n",
    "\n",
    "# Need to transpose data\n",
    "transposed_df <- t(subset_data)\n",
    "\n",
    "# Convert the matrix into a dataframe\n",
    "transposed_df <- as.data.frame(transposed_df)\n",
    "\n",
    "\n",
    "# Get the first row as column names\n",
    "col_names <- transposed_df[1, ]\n",
    "\n",
    "# Set column names\n",
    "colnames(transposed_df) <- col_names\n",
    "\n",
    "# Remove the first row from the transposed dataframe\n",
    "transposed_df <- transposed_df[-1, ]\n",
    "\n",
    "# Remove tpm average row\n",
    "transposed_df <- transposed_df[-19, ]\n",
    "\n",
    "\n",
    "# Check dimensions\n",
    "dimensions <- dim(transposed_df)\n",
    "\n",
    "# Print the dimensions\n",
    "print(dimensions)"
   ]
  },
  {
   "cell_type": "code",
   "execution_count": null,
   "id": "9d75df75-828c-43c9-89e8-2f95d0d02cec",
   "metadata": {
    "kernel": "R/4.3"
   },
   "outputs": [],
   "source": [
    "# Make PCA df \n",
    "pca_df <- transposed_df[,1:12109]\n",
    "rownames(pca_df) <- NULL\n",
    "pca_df <- sapply(pca_df, as.numeric)"
   ]
  },
  {
   "cell_type": "code",
   "execution_count": null,
   "id": "65dcf633-01f4-44f4-8e55-c8bed5d8d87e",
   "metadata": {
    "kernel": "R/4.3"
   },
   "outputs": [],
   "source": [
    "# Run pca and make table\n",
    "pca_res <- prcomp(pca_df, scale. = TRUE)\n",
    "pc_scores <- pca_res$x\n",
    "\n",
    "sample_names <- rownames(transposed_df)\n",
    "pc_data <- data.frame(Sample = sample_names, pc_scores[, 1:10])\n",
    "\n",
    "print(pc_data)"
   ]
  },
  {
   "cell_type": "code",
   "execution_count": null,
   "id": "b651f139-e755-4db3-a0df-eea085742ff1",
   "metadata": {
    "kernel": "R/4.3"
   },
   "outputs": [],
   "source": [
    "# In transposed dataset, make rownames column one again\n",
    "# Set rownames as ID\n",
    "\n",
    "transposed_df$ID <- row.names(transposed_df)\n",
    "\n",
    "transposed_df <- transposed_df %>%\n",
    "  select(ID, everything()) %>%\n",
    "  rename(Sample = ID)\n",
    "\n",
    "rownames(transposed_df) <- NULL\n",
    "\n",
    "head(transposed_df)"
   ]
  },
  {
   "cell_type": "code",
   "execution_count": null,
   "id": "4736f7ee-3cbe-40d3-9360-1d34a534b16a",
   "metadata": {
    "kernel": "R/4.3"
   },
   "outputs": [],
   "source": [
    "# Make sure transposed entries are numeric except sample\n",
    "transposed_df <- transposed_df %>%\n",
    "  mutate_at(vars(-Sample), as.numeric)\n",
    "    \n",
    "head(transposed_df)"
   ]
  },
  {
   "cell_type": "code",
   "execution_count": null,
   "id": "1e806f30-039b-4c7b-a065-262605b571f1",
   "metadata": {
    "kernel": "R/4.3"
   },
   "outputs": [],
   "source": [
    "# Merge with PCS\n",
    "pc_genes <- merge(transposed_df, pc_data , by= \"Sample\")"
   ]
  },
  {
   "cell_type": "code",
   "execution_count": null,
   "id": "ba36ff72-994e-4d9c-97e9-053f6f2ca8de",
   "metadata": {
    "kernel": "R/4.3"
   },
   "outputs": [],
   "source": [
    "# Check that dimensions match expected\n",
    "dimensions <- dim(transposed_df)\n",
    "print(dimensions)\n",
    "\n",
    "dimensions <- dim(pc_data)\n",
    "print(dimensions)\n",
    "\n",
    "dimensions <- dim(pc_genes)\n",
    "print(dimensions)"
   ]
  },
  {
   "cell_type": "code",
   "execution_count": null,
   "id": "598b366f-dca5-4cd7-84a9-81627334a2e0",
   "metadata": {
    "kernel": "R/4.3"
   },
   "outputs": [],
   "source": [
    "# Now add in column with GBA groups 1-4 \n",
    "pc_genes <- pc_genes %>%\n",
    "  mutate(GBA_Group = case_when(\n",
    "    grepl(\"KO\", Sample) ~ 4,\n",
    "    grepl(\"HOM\", Sample) ~ 3,\n",
    "    grepl(\"HET\", Sample) ~ 2,\n",
    "    grepl(\"WT\", Sample) ~ 1,\n",
    "    TRUE ~ NA_integer_\n",
    "  )) %>%\n",
    "  select(Sample, GBA_Group, everything())\n",
    "\n",
    "head(pc_genes)"
   ]
  },
  {
   "cell_type": "code",
   "execution_count": null,
   "id": "e0b2a912-de72-469a-9964-31901f4b3079",
   "metadata": {
    "kernel": "R/4.3"
   },
   "outputs": [],
   "source": [
    "# Now add in group column without replicates\n",
    "\n",
    "pc_genes <- pc_genes %>%\n",
    "  mutate(Group = case_when(\n",
    "    grepl(\"KO\", Sample) ~ \"KO\",\n",
    "    grepl(\"D448H_HOM\", Sample) ~ \"D448H_HOM\",\n",
    "    grepl(\"D448V_HOM\", Sample) ~ \"D448V_HOM\",\n",
    "    grepl(\"D448V_HET\", Sample) ~ \"D448V_HET\",\n",
    "    grepl(\"D448H_HET\", Sample) ~ \"D448H_HET\",\n",
    "    grepl(\"WT\", Sample) ~ \"WT\",\n",
    "    TRUE ~ NA_character_\n",
    "  )) %>%\n",
    "  select(Sample, Group, everything())\n",
    "\n",
    "head(pc_genes)"
   ]
  },
  {
   "cell_type": "code",
   "execution_count": null,
   "id": "a0e83271-4e79-4d92-bbb6-94d13f07a258",
   "metadata": {
    "kernel": "R/4.3"
   },
   "outputs": [],
   "source": [
    "# Reorganize \n",
    "pc_genes <- pc_genes %>%\n",
    "    select(Sample, Group, GBA_Group, PC1, PC2, PC3, PC4, PC5, PC6, PC7, PC8, PC9, PC10, everything())\n",
    "head(pc_genes)"
   ]
  },
  {
   "cell_type": "code",
   "execution_count": null,
   "id": "c99204a3-b1d6-4d35-ab26-9fbaa21218f4",
   "metadata": {
    "kernel": "R/4.3"
   },
   "outputs": [],
   "source": [
    "# Write table\n",
    "write.csv(pc_genes, \"analysis_table_ips.csv\", row.names=FALSE)"
   ]
  }
 ],
 "metadata": {
  "kernelspec": {
   "display_name": "SoS",
   "language": "sos",
   "name": "sos"
  },
  "language_info": {
   "codemirror_mode": "sos",
   "file_extension": ".sos",
   "mimetype": "text/x-sos",
   "name": "sos",
   "nbconvert_exporter": "sos_notebook.converter.SoS_Exporter",
   "pygments_lexer": "sos"
  },
  "sos": {
   "kernels": [
    [
     "R/4.3",
     "ir43",
     "R",
     "",
     ""
    ]
   ],
   "version": ""
  }
 },
 "nbformat": 4,
 "nbformat_minor": 5
}
