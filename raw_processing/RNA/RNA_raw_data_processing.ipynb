{
 "cells": [
  {
   "cell_type": "markdown",
   "id": "1cb5d29d-fbb4-4b9e-a303-02f3f9ab0a5f",
   "metadata": {},
   "source": [
    "# Processing of RNA Illumina raw data\n",
    "Note: Only iPSC processing shown, same thing for neurons and microglia"
   ]
  },
  {
   "cell_type": "markdown",
   "id": "7d6a4dfb-d41d-480e-9f0c-797967bebe21",
   "metadata": {},
   "source": [
    "## Map with STAR"
   ]
  },
  {
   "cell_type": "code",
   "execution_count": null,
   "id": "679bfdb6-ee3d-4df5-85f3-d904878068f7",
   "metadata": {},
   "outputs": [],
   "source": [
    "cat ./IPSC_RAW_DATA/sample_names_ips.txt | while read -r first second;do\n",
    "sbatch --mem=100g --cpus-per-task=2 --time=1-0 star_align.sh $HOME/RNA/illumina/STAR/index_hg38_mains/ \\\n",
    "./IPSC_RAW_DATA/\"$second\"_1.fastq.gz \\\n",
    "./IPSC_RAW_DATA/\"$second\"_2.fastq.gz \\\n",
    "./IPSC_PROCESSED_DATA/mapped/$first\n",
    "done"
   ]
  },
  {
   "cell_type": "markdown",
   "id": "e9e70618-53bf-4c4a-9ed3-42322aa677ae",
   "metadata": {},
   "source": [
    "## Run Salmon for quantification"
   ]
  },
  {
   "cell_type": "code",
   "execution_count": null,
   "id": "fd6cfec2-2916-4c98-aa7b-0cb082cf5ff5",
   "metadata": {},
   "outputs": [],
   "source": [
    "cat ./IPSC_RAW_DATA/sample_names_ips.txt | while read -r first second; do\n",
    "sbatch --mem=50g --cpus-per-task=4 --time=1-0 --mail-type=END ./IPSC_PROCESSED_DATA/salmon/run_salmon.sh \\\n",
    "\"$second\" \\\n",
    "\"$first\"\n",
    "done"
   ]
  },
  {
   "cell_type": "markdown",
   "id": "6bd9a083-b31d-47ba-bdc1-edc17515d21c",
   "metadata": {},
   "source": [
    "## Create gene map"
   ]
  },
  {
   "cell_type": "code",
   "execution_count": null,
   "id": "b398a048-bfbc-4f4b-b75b-c5a3804b0344",
   "metadata": {},
   "outputs": [],
   "source": [
    "Rscript --vanilla gencode_gene_map.r ./IPSC_PROCESSED_DATA/salmon/reference_files/gencode.v43.transcripts.fa.gz"
   ]
  },
  {
   "cell_type": "markdown",
   "id": "2d3ea51e-af4f-4e14-ad33-6c9a2d12ad45",
   "metadata": {},
   "source": [
    "## Run Tximport"
   ]
  },
  {
   "cell_type": "code",
   "execution_count": null,
   "id": "002d0674-7a06-4837-b6ee-56d1e93772e4",
   "metadata": {},
   "outputs": [],
   "source": [
    "cat ../../IPSC_RAW_DATA/sample_names_ips.txt | while read -r first second; do\n",
    "Rscript --vanilla tximport.r \"gencode_txid_to_geneid.txt\" \"./$first/quant.sf\" \"./$first/$first.genes.csv\" \"$first\" \n",
    "done"
   ]
  },
  {
   "cell_type": "markdown",
   "id": "8163a8b6-0bea-41ec-8fc1-c169714a043b",
   "metadata": {},
   "source": [
    "## Merge all tximport files"
   ]
  },
  {
   "cell_type": "code",
   "execution_count": null,
   "id": "7d388f22-c9dd-4fe9-b8bb-ce8341a08a1d",
   "metadata": {},
   "outputs": [],
   "source": [
    "# Generate file just with final file names in salmon folder\n",
    "awk '{print $1}' ../../IPSC_RAW_DATA/sample_names_ips.txt > sample_names_ips_salmon.txt"
   ]
  },
  {
   "cell_type": "code",
   "execution_count": null,
   "id": "540ddb58-3703-44e1-b91e-28899ab92a3c",
   "metadata": {},
   "outputs": [],
   "source": [
    "# Generate list to pass to R of file names\n",
    "sh ./generate_file_names_R.sh"
   ]
  },
  {
   "cell_type": "markdown",
   "id": "de1a0383-8f7b-470f-a371-bbb24be2734c",
   "metadata": {},
   "source": [
    "Copy paste in merging R script"
   ]
  },
  {
   "cell_type": "code",
   "execution_count": null,
   "id": "bbfb440b-2fad-4a15-b0a8-7423d37020b7",
   "metadata": {},
   "outputs": [],
   "source": [
    "# Run merge R script\n",
    "Rscript --vanilla merge_sample_salmon_genes.r"
   ]
  },
  {
   "cell_type": "markdown",
   "id": "b1fc76d8-48c8-4279-8ab8-40dfced80b66",
   "metadata": {},
   "source": [
    "This gives you a final file: all_samples_salmon_genes_ips.csv"
   ]
  },
  {
   "cell_type": "code",
   "execution_count": null,
   "id": "c82e80d7-6ebd-4e39-b859-944cccba98cd",
   "metadata": {},
   "outputs": [],
   "source": []
  }
 ],
 "metadata": {
  "kernelspec": {
   "display_name": "Bash",
   "language": "bash",
   "name": "bash"
  },
  "language_info": {
   "codemirror_mode": "shell",
   "file_extension": ".sh",
   "mimetype": "text/x-sh",
   "name": "bash"
  }
 },
 "nbformat": 4,
 "nbformat_minor": 5
}
